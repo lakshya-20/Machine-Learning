{
 "cells": [
  {
   "cell_type": "markdown",
   "metadata": {},
   "source": [
    "# Sentiment Analysis on Movie reviews dataset\n"
   ]
  },
  {
   "cell_type": "code",
   "execution_count": 1,
   "metadata": {},
   "outputs": [],
   "source": [
    "import numpy as np\n",
    "import pandas as pd\n",
    "import sys\n",
    "import time\n",
    "from collections import Counter"
   ]
  },
  {
   "cell_type": "code",
   "execution_count": 2,
   "metadata": {},
   "outputs": [],
   "source": [
    "def read_data(data):\n",
    "    data=list(map(lambda x:x[:-1],data.readlines()))\n",
    "    return data\n",
    "def upper_data(data):\n",
    "    data=list(map(lambda x:x.upper(),iter(data)))\n",
    "    return data"
   ]
  },
  {
   "cell_type": "code",
   "execution_count": 25,
   "metadata": {},
   "outputs": [],
   "source": [
    "data=open('reviews.txt','r')\n",
    "reviews=read_data(data)\n",
    "\n",
    "data=open('labels.txt','r')\n",
    "labels=read_data(data)\n",
    "labels=upper_data(labels)"
   ]
  },
  {
   "cell_type": "code",
   "execution_count": 4,
   "metadata": {},
   "outputs": [],
   "source": [
    "words=Counter()\n",
    "for i in range(len(reviews)):\n",
    "    for word in reviews[i].split(' '):\n",
    "        words[word]+=1"
   ]
  },
  {
   "cell_type": "code",
   "execution_count": 5,
   "metadata": {},
   "outputs": [],
   "source": [
    "vocab=set(words.keys())\n",
    "vocab_size=len(vocab)"
   ]
  },
  {
   "cell_type": "code",
   "execution_count": 6,
   "metadata": {},
   "outputs": [],
   "source": [
    "word2index={}\n",
    "for i,word in enumerate(vocab):\n",
    "    word2index[word]=i"
   ]
  },
  {
   "cell_type": "code",
   "execution_count": 7,
   "metadata": {},
   "outputs": [],
   "source": [
    "def map_input(review):\n",
    "    layer=np.zeros((1,vocab_size))\n",
    "    for word in review.split(' '):\n",
    "        layer[0][word2index[word]]=1\n",
    "    return layer"
   ]
  },
  {
   "cell_type": "code",
   "execution_count": 8,
   "metadata": {},
   "outputs": [],
   "source": [
    "def get_target(label):\n",
    "    if(label==\"POSITIVE\"):\n",
    "        return 1\n",
    "    elif(label==\"NEGATIVE\"):\n",
    "        return 0"
   ]
  },
  {
   "cell_type": "code",
   "execution_count": 9,
   "metadata": {},
   "outputs": [],
   "source": [
    "def sigmoid(x):\n",
    "    return (1/(1+np.exp(-x)))"
   ]
  },
  {
   "cell_type": "code",
   "execution_count": 43,
   "metadata": {},
   "outputs": [],
   "source": [
    "np.random.seed(40)\n",
    "def train(reviews,labels,learning_rate,hidden_nodes):\n",
    "    correct=0\n",
    "    start_time=time.time()\n",
    "    weights_0_1=np.zeros((vocab_size,hidden_nodes))\n",
    "    weights_1_2=np.random.normal(0.0,1,(hidden_nodes,1))\n",
    "    del_0_1=np.zeros(weights_0_1.shape)\n",
    "    del_1_2=np.zeros(weights_1_2.shape)\n",
    "    for i in range(len(reviews)):\n",
    "        review=reviews[i]\n",
    "        label=labels[i]\n",
    "        target=get_target(label)\n",
    "        \n",
    "        x=map_input(review)\n",
    "        one_input=np.dot(x,weights_0_1)\n",
    "        one_output=one_input\n",
    "        \n",
    "        two_input=np.dot(one_output,weights_1_2)\n",
    "        two_output=sigmoid(two_input)\n",
    "        \n",
    "        error=two_output-target\n",
    "        two_error_term=error*two_output*(1-two_output)\n",
    "        one_error_term=np.dot(two_error_term,weights_1_2.T)\n",
    "        \n",
    "        delta_1_2=two_error_term*one_output.T\n",
    "        delta_0_1=one_error_term*x.T\n",
    "        \n",
    "        weights_1_2 -=learning_rate*delta_1_2\n",
    "        weights_0_1 -=learning_rate*delta_0_1\n",
    "        \n",
    "        if(two_output >= 0.5 and label == 'POSITIVE'):\n",
    "            correct += 1\n",
    "        elif(two_output < 0.5 and label == 'NEGATIVE'):\n",
    "            correct += 1\n",
    "        \n",
    "        elapsed_time = float(time.time() - start_time)\n",
    "        if(i%1000==0):\n",
    "            progress=(100 * i/(len(reviews)))\n",
    "            accuracy=(correct * 100 / float(i+1))\n",
    "            speed= i / elapsed_time if elapsed_time > 0 else 0\n",
    "            print(\"Progress:{}  Correct:{} Accuracy:{} Speed(reviews/per sec):{}\".format(progress,correct,accuracy,speed))\n",
    "            \n",
    "    return weights_0_1,weights_1_2"
   ]
  },
  {
   "cell_type": "code",
   "execution_count": 44,
   "metadata": {
    "scrolled": true
   },
   "outputs": [
    {
     "name": "stdout",
     "output_type": "stream",
     "text": [
      "Progress:0.0  Correct:1 Accuracy:100.0 Speed(reviews/per sec):0.0\n",
      "Progress:4.166666666666667  Correct:734 Accuracy:73.32667332667333 Speed(reviews/per sec):64.03791698197278\n",
      "Progress:8.333333333333334  Correct:1521 Accuracy:76.0119940029985 Speed(reviews/per sec):63.616480549241324\n",
      "Progress:12.5  Correct:2362 Accuracy:78.70709763412196 Speed(reviews/per sec):63.503809626894615\n",
      "Progress:16.666666666666668  Correct:3163 Accuracy:79.05523619095226 Speed(reviews/per sec):63.4686022612289\n",
      "Progress:20.833333333333332  Correct:3971 Accuracy:79.40411917616477 Speed(reviews/per sec):63.55679088502266\n",
      "Progress:25.0  Correct:4787 Accuracy:79.77003832694551 Speed(reviews/per sec):63.556849954209\n",
      "Progress:29.166666666666668  Correct:5642 Accuracy:80.58848735894873 Speed(reviews/per sec):63.51509513375379\n",
      "Progress:33.333333333333336  Correct:6486 Accuracy:81.06486689163854 Speed(reviews/per sec):63.52832754114502\n",
      "Progress:37.5  Correct:7325 Accuracy:81.37984668370181 Speed(reviews/per sec):63.53982545266197\n",
      "Progress:41.666666666666664  Correct:8183 Accuracy:81.82181781821818 Speed(reviews/per sec):63.54323452223087\n",
      "Progress:45.833333333333336  Correct:9031 Accuracy:82.09253704208709 Speed(reviews/per sec):63.5079457404777\n",
      "Progress:50.0  Correct:9889 Accuracy:82.40146654445464 Speed(reviews/per sec):63.49308950746702\n",
      "Progress:54.166666666666664  Correct:10737 Accuracy:82.58595492654412 Speed(reviews/per sec):63.47687280746677\n",
      "Progress:58.333333333333336  Correct:11576 Accuracy:82.67980858510107 Speed(reviews/per sec):63.47893891282292\n",
      "Progress:62.5  Correct:12397 Accuracy:82.64115725618292 Speed(reviews/per sec):63.47838139486572\n",
      "Progress:66.66666666666667  Correct:13221 Accuracy:82.62608586963314 Speed(reviews/per sec):63.489132802837\n",
      "Progress:70.83333333333333  Correct:14060 Accuracy:82.70101758720075 Speed(reviews/per sec):63.48542101782538\n",
      "Progress:75.0  Correct:14923 Accuracy:82.90094994722516 Speed(reviews/per sec):63.468302960645794\n",
      "Progress:79.16666666666667  Correct:15790 Accuracy:83.10088942687227 Speed(reviews/per sec):63.47076021799838\n",
      "Progress:83.33333333333333  Correct:16661 Accuracy:83.30083495825208 Speed(reviews/per sec):63.46218715975829\n",
      "Progress:87.5  Correct:17526 Accuracy:83.4531688967192 Speed(reviews/per sec):64.0360780366214\n",
      "Progress:91.66666666666667  Correct:18395 Accuracy:83.60983591654924 Speed(reviews/per sec):65.14533379724828\n",
      "Progress:95.83333333333333  Correct:19241 Accuracy:83.65288465718882 Speed(reviews/per sec):66.36397927706787\n"
     ]
    }
   ],
   "source": [
    "weights_0_1,weights_1_2=train(reviews[:-1000],labels[:-1000],learning_rate=0.001,hidden_nodes=10)"
   ]
  },
  {
   "cell_type": "code",
   "execution_count": 45,
   "metadata": {},
   "outputs": [],
   "source": [
    "np.random.seed(40)\n",
    "def train(reviews,labels,learning_rate,hidden_nodes):\n",
    "    correct=0\n",
    "    start_time=time.time()\n",
    "    weights_0_1=np.zeros((vocab_size,hidden_nodes))\n",
    "    weights_1_2=np.random.normal(0.0,1,(hidden_nodes,1))\n",
    "    del_0_1=np.zeros(weights_0_1.shape)\n",
    "    del_1_2=np.zeros(weights_1_2.shape)\n",
    "    for i in range(len(reviews)):\n",
    "        review=reviews[i]\n",
    "        label=labels[i]\n",
    "        target=get_target(label)\n",
    "        \n",
    "        x=map_input(review)\n",
    "        indices=set()\n",
    "        for word in review.split(' '):\n",
    "            indices.add(word2index[word])\n",
    "\n",
    "        one_input=np.zeros((1,10))\n",
    "        for index in indices:\n",
    "            one_input += weights_0_1[index]\n",
    "        one_output=one_input\n",
    "        \n",
    "        two_input=np.dot(one_output,weights_1_2)\n",
    "        two_output=sigmoid(two_input)\n",
    "        \n",
    "        error=two_output-target\n",
    "        two_error_term=error*two_output*(1-two_output)\n",
    "        one_error_term=np.dot(two_error_term,weights_1_2.T)\n",
    "        \n",
    "        delta_1_2=two_error_term*one_output.T\n",
    "        delta_0_1=one_error_term*x.T\n",
    "        \n",
    "        weights_1_2 -=learning_rate*delta_1_2\n",
    "        weights_0_1 -=learning_rate*delta_0_1\n",
    "        \n",
    "        if(two_output >= 0.5 and label == 'POSITIVE'):\n",
    "            correct += 1\n",
    "        elif(two_output < 0.5 and label == 'NEGATIVE'):\n",
    "            correct += 1\n",
    "        \n",
    "        elapsed_time = float(time.time() - start_time)\n",
    "        if(i%1000==0):\n",
    "            progress=(100 * i/(len(reviews)))\n",
    "            accuracy=(correct * 100 / float(i+1))\n",
    "            speed= i / elapsed_time if elapsed_time > 0 else 0\n",
    "            print(\"Progess:{}  Correct:{} Accuracy:{} Speed:{}\".format(progress,correct,accuracy,speed))\n",
    "            \n",
    "    return weights_0_1,weights_1_2"
   ]
  },
  {
   "cell_type": "code",
   "execution_count": 46,
   "metadata": {},
   "outputs": [
    {
     "name": "stdout",
     "output_type": "stream",
     "text": [
      "Progess:0.0  Correct:1 Accuracy:100.0 Speed:0.0\n",
      "Progess:4.166666666666667  Correct:734 Accuracy:73.32667332667333 Speed:108.85926099106864\n",
      "Progess:8.333333333333334  Correct:1521 Accuracy:76.0119940029985 Speed:108.05906733878452\n",
      "Progess:12.5  Correct:2362 Accuracy:78.70709763412196 Speed:107.40643343001203\n",
      "Progess:16.666666666666668  Correct:3163 Accuracy:79.05523619095226 Speed:106.86994639601942\n",
      "Progess:20.833333333333332  Correct:3971 Accuracy:79.40411917616477 Speed:106.49105511281468\n",
      "Progess:25.0  Correct:4787 Accuracy:79.77003832694551 Speed:106.61171090938163\n",
      "Progess:29.166666666666668  Correct:5642 Accuracy:80.58848735894873 Speed:106.54992368558295\n",
      "Progess:33.333333333333336  Correct:6486 Accuracy:81.06486689163854 Speed:106.49551297022731\n",
      "Progess:37.5  Correct:7325 Accuracy:81.37984668370181 Speed:106.56404437995948\n",
      "Progess:41.666666666666664  Correct:8183 Accuracy:81.82181781821818 Speed:106.59305403746787\n",
      "Progess:45.833333333333336  Correct:9031 Accuracy:82.09253704208709 Speed:106.65949681246366\n",
      "Progess:50.0  Correct:9889 Accuracy:82.40146654445464 Speed:106.74306525069242\n",
      "Progess:54.166666666666664  Correct:10737 Accuracy:82.58595492654412 Speed:106.7239960151825\n",
      "Progess:58.333333333333336  Correct:11576 Accuracy:82.67980858510107 Speed:106.70166931344528\n",
      "Progess:62.5  Correct:12397 Accuracy:82.64115725618292 Speed:106.65956391338537\n",
      "Progess:66.66666666666667  Correct:13221 Accuracy:82.62608586963314 Speed:106.70748207638937\n",
      "Progess:70.83333333333333  Correct:14060 Accuracy:82.70101758720075 Speed:106.50700443487412\n",
      "Progess:75.0  Correct:14923 Accuracy:82.90094994722516 Speed:106.52067068895886\n",
      "Progess:79.16666666666667  Correct:15790 Accuracy:83.10088942687227 Speed:106.26295710972873\n",
      "Progess:83.33333333333333  Correct:16661 Accuracy:83.30083495825208 Speed:106.24343242675144\n",
      "Progess:87.5  Correct:17526 Accuracy:83.4531688967192 Speed:106.23352613359823\n",
      "Progess:91.66666666666667  Correct:18395 Accuracy:83.60983591654924 Speed:106.22754090796715\n",
      "Progess:95.83333333333333  Correct:19241 Accuracy:83.65288465718882 Speed:106.2324283332302\n"
     ]
    }
   ],
   "source": [
    "weights_0_1,weights_1_2=train(reviews[:-1000],labels[:-1000],learning_rate=0.001,hidden_nodes=10)"
   ]
  },
  {
   "cell_type": "code",
   "execution_count": 47,
   "metadata": {},
   "outputs": [],
   "source": [
    "def test(reviews,labels,weights_0_1,weights_1_2):\n",
    "    correct=0\n",
    "    for i in range(len(reviews)):\n",
    "        review=reviews[i]\n",
    "        label=labels[i]\n",
    "        target=get_target(label)\n",
    "        \n",
    "        x=map_input(review)\n",
    "        one_input=np.dot(x,weights_0_1)\n",
    "        one_output=one_input\n",
    "\n",
    "        two_input=np.dot(one_output,weights_1_2)\n",
    "        two_output=sigmoid(two_input)\n",
    "        if(two_output >= 0.5 and label == 'POSITIVE'):\n",
    "            correct+=1\n",
    "        elif(two_output < 0.5 and label == 'NEGATIVE'):\n",
    "            correct+=1\n",
    "        if(i%100==0):\n",
    "            accuracy=correct*100/len(reviews)\n",
    "            print(\"Accuracy:{}\".format(accuracy))"
   ]
  },
  {
   "cell_type": "code",
   "execution_count": 48,
   "metadata": {},
   "outputs": [
    {
     "name": "stdout",
     "output_type": "stream",
     "text": [
      "Accuracy:0.1\n",
      "Accuracy:8.8\n",
      "Accuracy:17.6\n",
      "Accuracy:26.4\n",
      "Accuracy:34.9\n",
      "Accuracy:43.8\n",
      "Accuracy:52.5\n",
      "Accuracy:59.8\n",
      "Accuracy:67.4\n",
      "Accuracy:76.3\n"
     ]
    }
   ],
   "source": [
    "test(reviews[-1000:],labels[-1000:],weights_0_1,weights_1_2)"
   ]
  },
  {
   "cell_type": "code",
   "execution_count": 49,
   "metadata": {},
   "outputs": [],
   "source": [
    "def prediction(review,weights_0_1,weights_1_2):\n",
    "    x=map_input(review)\n",
    "    one_input=np.dot(x,weights_0_1)\n",
    "    one_output=one_input\n",
    "    two_input=np.dot(one_output,weights_1_2)\n",
    "    two_output=sigmoid(two_input)\n",
    "    \n",
    "    if(two_output>0.5):\n",
    "        output=\"POSITIVE\"\n",
    "    elif(two_output>0.5):\n",
    "        output=\"NEGATIVE\"\n",
    "    print(output)"
   ]
  },
  {
   "cell_type": "code",
   "execution_count": 50,
   "metadata": {},
   "outputs": [
    {
     "name": "stdout",
     "output_type": "stream",
     "text": [
      "POSITIVE\n"
     ]
    }
   ],
   "source": [
    "prediction(reviews[0],weights_0_1,weights_1_2)"
   ]
  },
  {
   "cell_type": "code",
   "execution_count": null,
   "metadata": {},
   "outputs": [],
   "source": []
  },
  {
   "cell_type": "code",
   "execution_count": null,
   "metadata": {},
   "outputs": [],
   "source": []
  }
 ],
 "metadata": {
  "kernelspec": {
   "display_name": "Python 3",
   "language": "python",
   "name": "python3"
  },
  "language_info": {
   "codemirror_mode": {
    "name": "ipython",
    "version": 3
   },
   "file_extension": ".py",
   "mimetype": "text/x-python",
   "name": "python",
   "nbconvert_exporter": "python",
   "pygments_lexer": "ipython3",
   "version": "3.7.1"
  }
 },
 "nbformat": 4,
 "nbformat_minor": 2
}
